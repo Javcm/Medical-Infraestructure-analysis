{
 "cells": [
  {
   "attachments": {},
   "cell_type": "markdown",
   "metadata": {},
   "source": [
    "# Estadística Multivariada\n",
    "## Proyectos de fin de curso\n",
    "\n",
    "Fecha de presentación y entrega de reporte: jueves 4 de junio de 2020\n",
    "\n",
    "En todos los proyectos elaborar un reporte que incluya:\n",
    "- Importancia y objetivo del proyecto ****\n",
    "- Justificación de las herramientas utilizadas\n",
    "- Resultados obtenidos (gráficos, tablas, etc) \n",
    "- Interpretación y conclusiones \n",
    "- Bibliografía\n",
    "\n",
    "Subir el reporte (pdf) y los codigos realizados a la plataforma en un zip\n",
    "\n"
   ]
  },
  {
   "cell_type": "markdown",
   "metadata": {},
   "source": [
    "# Proyecto 2. \n",
    "## Análisis de la infraestructura en salud de las principales ciudades del país. \n",
    "\n",
    "#### Objetivo General:\n",
    "\n",
    "Investigar la infraestructura en salud (hospitales, clínicas, centros de salud) de las principales ciudades del país, identificando las ciudades que sean más similares en este aspecto\n",
    "\n",
    "#### Objetivos Particulares: \n",
    "1. A partir de información disponible sobre la infraestructura en salud de las principales ciudades del país (no menos de 30 ciudades), identificar y recopilar la información más relevante y reciente que caracterice la infraestructura en salud.\n",
    "\n",
    "    **¿Cómo identificar a las principales ciudades?- ciudades con mayor Pib per cápita, ciudades con mayor densidad de población- INEGI**\n",
    "    \n",
    "    **¿Público o privado o ambos?**\n",
    "    \n",
    "    **¿Qué datos? # hospitales,#clínicas, # médicos, #centros de especialización (quizas desglosarlo por rama, oncología, visual, respiratorio, enfermedades mentales, etc.)**\n",
    "\n",
    "\n",
    "2. Construir una medida de distancia adecuada entre las ciudades, de acuerdo a la naturaleza de la información recopilada.\n",
    "\n",
    "    **Será necesario estandarizar cada variable xq estan medidos en distintas unidades**\n",
    "    \n",
    "    **Revisar archivo sobre distancias**\n",
    "\n",
    "\n",
    "3. Utilizando modelos de escalamiento multidimensional (MDS) construir el mapa de las ciudades a partir de las distancias obtenidas. Identificar posibles agrupamientos de ciudades a partir del mapa obtenido.\n",
    "\n",
    "\n",
    "\n",
    "4. Aplicar técnicas de clustering sobre la matriz de datos originales y sobre la matriz de distancias, y comparar los clusters obtenidos de ciudades con los visualizados en el mapa de MDS. \n",
    "\n",
    "\n",
    "5. Caracterizar los clusters de ciudades obtenidos, interpretando los ejes del mapa MDS\n"
   ]
  }
 ],
 "metadata": {
  "kernelspec": {
   "display_name": "Python 3",
   "language": "python",
   "name": "python3"
  },
  "language_info": {
   "codemirror_mode": {
    "name": "ipython",
    "version": 3
   },
   "file_extension": ".py",
   "mimetype": "text/x-python",
   "name": "python",
   "nbconvert_exporter": "python",
   "pygments_lexer": "ipython3",
   "version": "3.7.4"
  }
 },
 "nbformat": 4,
 "nbformat_minor": 2
}
